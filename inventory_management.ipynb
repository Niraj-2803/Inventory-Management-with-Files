{
 "cells": [
  {
   "cell_type": "code",
   "execution_count": 28,
   "id": "ab3343e6",
   "metadata": {},
   "outputs": [
    {
     "name": "stdout",
     "output_type": "stream",
     "text": [
      "['1,5 Star,5,78', '2,Milky Bar,5,150', '3,Cake,300,0', '4,Candy,1,1000']\n"
     ]
    }
   ],
   "source": [
    "import time\n",
    "\n",
    "fd = open(\"inventory.txt\",\"r\")\n",
    "products = fd.read().split('\\n')\n",
    "fd.close()\n",
    "\n",
    "print(products)"
   ]
  },
  {
   "cell_type": "code",
   "execution_count": null,
   "id": "e9313fc0",
   "metadata": {},
   "outputs": [],
   "source": [
    "ui_username = input(\"Enter User Name: \")\n",
    "ui_phone    = input(\"Enter Mobile Number: \")\n",
    "ui_mail     = input(\"Enter Email ID: \")\n",
    "ui_prod_id  = input(\"Enter product ID: \")\n",
    "ui_prod_qn  = input(\"Enter product Quantity: \")\n",
    "\n",
    "updated_product_list = []\n",
    "\n",
    "for product in products:\n",
    "    prod_details = product.split(',')\n",
    "    if(prod_details[0] == ui_prod_id):\n",
    "        if(int(ui_prod_qn) <= int(prod_details[3])):\n",
    "            print(\"__________________________________\")\n",
    "            print(\"Product Name      :\",prod_details[1])\n",
    "            print(\"Product Price     :\",prod_details[2])\n",
    "            print(\"Product Quantity  :\",ui_prod_qn)\n",
    "            print(\"__________________________________\")\n",
    "            print(\"Billing Amount    :\",int(ui_prod_qn)*int(prod_details[2]))\n",
    "            print(\"__________________________________\")\n",
    "            \n",
    "            #Updating Inventory\n",
    "            prod_details[3] = str(int(prod_details[3])-int(ui_prod_qn))\n",
    "            \n",
    "            #Generating Sales in sales.txt\n",
    "            fd = open(\"Sales.txt\",\"a\")\n",
    "            sales_detail = ui_username + \",\" + ui_phone + \",\" + ui_mail + \",\" + prod_details[1] + \",\" + ui_prod_id + \",\" + ui_prod_qn + \",\" + str(int(ui_prod_qn) * int(prod_details[2])) + \",\" + time.ctime() + \"\\n\"\n",
    "            fd.write(sales_detail)\n",
    "            fd.close()\n",
    "            \n",
    "        else:\n",
    "            print(\"Sorry, We're not having enought quantity.\")\n",
    "            print(\"We're having only\",prod_details[3],'quantity.')\n",
    "            print(\"Would you like to purchase it?\")\n",
    "            \n",
    "            ch = input(\"Press Y/N: \")\n",
    "            \n",
    "            if(ch == 'Y' or ch == 'y'):\n",
    "                print(\"__________________________________\")\n",
    "                print(\"Product Name      :\",prod_details[1])\n",
    "                print(\"Product Price     :\",prod_details[2])\n",
    "                print(\"Product Quantity  :\",prod_details[3])\n",
    "                print(\"__________________________________\")\n",
    "                print(\"Billing Amount    :\",int(prod_details[3])*int(prod_details[2]))\n",
    "                print(\"__________________________________\")\n",
    "                \n",
    "                fd = open(\"Sales.txt\",'a')\n",
    "                sales_detail = ui_username +\",\"+ ui_phone +\",\"+ ui_mail +\",\"+prod_details[1] +\",\"+ ui_prod_id +\",\"+ prod_details[3] +\",\"+ str(int(prod_details[3]) * int(prod_details[2]))+\",\"+time.ctime()+ \"\\n\"\n",
    "                fd.write(sales_detail)\n",
    "                fd.close()\n",
    "                \n",
    "                prod_details[3] = '0'\n",
    "            else:\n",
    "                print(\"Thanks !\")\n",
    "                \n",
    "    #Updating my Inventory List\n",
    "    prod = prod_details[0]+\",\"+prod_details[1]+\",\"+prod_details[2]+\",\"+prod_details[3]+\"\\n\"\n",
    "    updated_product_list.append(prod)\n",
    "    \n",
    "updated_product_list[-1] = updated_product_list[-1][:-1]\n",
    "        \n",
    "fd = open('inventory.txt','w')\n",
    "\n",
    "print(updated_product_list)\n",
    "\n",
    "for i in updated_product_list:\n",
    "    fd.write(i)\n",
    "fd.close()\n",
    "\n",
    "print(\"Inventory Updated !\")"
   ]
  },
  {
   "cell_type": "code",
   "execution_count": null,
   "id": "64cb8791",
   "metadata": {},
   "outputs": [],
   "source": []
  }
 ],
 "metadata": {
  "kernelspec": {
   "display_name": "Python 3 (ipykernel)",
   "language": "python",
   "name": "python3"
  },
  "language_info": {
   "codemirror_mode": {
    "name": "ipython",
    "version": 3
   },
   "file_extension": ".py",
   "mimetype": "text/x-python",
   "name": "python",
   "nbconvert_exporter": "python",
   "pygments_lexer": "ipython3",
   "version": "3.9.12"
  }
 },
 "nbformat": 4,
 "nbformat_minor": 5
}
